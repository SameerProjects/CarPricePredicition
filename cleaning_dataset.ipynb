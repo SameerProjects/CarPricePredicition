{
 "cells": [
  {
   "cell_type": "code",
   "execution_count": 1,
   "id": "3a2b02e3",
   "metadata": {},
   "outputs": [],
   "source": [
    "# Reasoning behind this notebook is to reduce the size of the original dataset so that it can be pushed onto GitHub\n",
    "# as currently it exceeds the maximum limit of 100 MB"
   ]
  },
  {
   "cell_type": "code",
   "execution_count": 2,
   "id": "4a03c094",
   "metadata": {},
   "outputs": [],
   "source": [
    "import pandas as pd\n",
    "import numpy as np\n",
    "import plotly.express as px\n",
    "import seaborn as sns\n",
    "import matplotlib.pyplot as plt\n",
    "import os"
   ]
  },
  {
   "cell_type": "code",
   "execution_count": 3,
   "id": "2d66c56c",
   "metadata": {},
   "outputs": [
    {
     "name": "stdout",
     "output_type": "stream",
     "text": [
      "os.stat_result(st_mode=33206, st_ino=21110623253825007, st_dev=2388072835, st_nlink=1, st_uid=0, st_gid=0, st_size=145219892, st_atime=1689824058, st_mtime=1682602134, st_ctime=1689821961)\n",
      "File Size in Bytes is 145219892\n",
      "File Size in MegaBytes is 138.49248123168945\n"
     ]
    }
   ],
   "source": [
    "file_stats = os.stat(r\"C:\\Users\\xmohd\\Documents\\GitHub\\CarPricePredicition\\cars.csv\")\n",
    "print(file_stats)\n",
    "print(f'File Size in Bytes is {file_stats.st_size}')\n",
    "print(f'File Size in MegaBytes is {file_stats.st_size / (1024 * 1024)}')"
   ]
  },
  {
   "cell_type": "code",
   "execution_count": 4,
   "id": "c8a654be",
   "metadata": {},
   "outputs": [],
   "source": [
    "df = pd.read_csv('cars.csv')"
   ]
  },
  {
   "cell_type": "code",
   "execution_count": 5,
   "id": "48f6e919",
   "metadata": {},
   "outputs": [
    {
     "data": {
      "text/plain": [
       "(762091, 20)"
      ]
     },
     "execution_count": 5,
     "metadata": {},
     "output_type": "execute_result"
    }
   ],
   "source": [
    "df.shape"
   ]
  },
  {
   "cell_type": "code",
   "execution_count": 6,
   "id": "9e3e9a81",
   "metadata": {},
   "outputs": [
    {
     "data": {
      "text/plain": [
       "manufacturer                0\n",
       "model                       0\n",
       "year                        0\n",
       "mileage                   506\n",
       "engine                  15050\n",
       "transmission             9904\n",
       "drivetrain              21562\n",
       "fuel_type               22927\n",
       "mpg                    142071\n",
       "exterior_color           8859\n",
       "interior_color          56975\n",
       "accidents_or_damage     24212\n",
       "one_owner               31483\n",
       "personal_use_only       24852\n",
       "seller_name              8593\n",
       "seller_rating          213973\n",
       "driver_rating           31632\n",
       "driver_reviews_num          0\n",
       "price_drop             351979\n",
       "price                       0\n",
       "dtype: int64"
      ]
     },
     "execution_count": 6,
     "metadata": {},
     "output_type": "execute_result"
    }
   ],
   "source": [
    "df.isnull().sum()"
   ]
  },
  {
   "cell_type": "code",
   "execution_count": 7,
   "id": "8ad7c462",
   "metadata": {},
   "outputs": [
    {
     "data": {
      "text/plain": [
       "manufacturer           0\n",
       "model                  0\n",
       "year                   0\n",
       "mileage                0\n",
       "engine                 0\n",
       "transmission           0\n",
       "drivetrain             0\n",
       "fuel_type              0\n",
       "mpg                    0\n",
       "exterior_color         0\n",
       "interior_color         0\n",
       "accidents_or_damage    0\n",
       "one_owner              0\n",
       "personal_use_only      0\n",
       "seller_name            0\n",
       "seller_rating          0\n",
       "driver_rating          0\n",
       "driver_reviews_num     0\n",
       "price_drop             0\n",
       "price                  0\n",
       "dtype: int64"
      ]
     },
     "execution_count": 7,
     "metadata": {},
     "output_type": "execute_result"
    }
   ],
   "source": [
    "df = df.dropna()\n",
    "df.isnull().sum()"
   ]
  },
  {
   "cell_type": "code",
   "execution_count": 8,
   "id": "be81287b",
   "metadata": {},
   "outputs": [
    {
     "data": {
      "text/plain": [
       "2243"
      ]
     },
     "execution_count": 8,
     "metadata": {},
     "output_type": "execute_result"
    }
   ],
   "source": [
    "df.duplicated().sum()"
   ]
  },
  {
   "cell_type": "code",
   "execution_count": 9,
   "id": "899cdea9",
   "metadata": {},
   "outputs": [
    {
     "data": {
      "text/plain": [
       "0"
      ]
     },
     "execution_count": 9,
     "metadata": {},
     "output_type": "execute_result"
    }
   ],
   "source": [
    "df = df.drop_duplicates()\n",
    "df.duplicated().sum()"
   ]
  },
  {
   "cell_type": "code",
   "execution_count": 10,
   "id": "2492e7d4",
   "metadata": {},
   "outputs": [],
   "source": [
    "df.to_csv('cars_clean.csv')"
   ]
  },
  {
   "cell_type": "code",
   "execution_count": 11,
   "id": "e1f26921",
   "metadata": {},
   "outputs": [
    {
     "name": "stdout",
     "output_type": "stream",
     "text": [
      "os.stat_result(st_mode=33206, st_ino=562949955158570, st_dev=2388072835, st_nlink=1, st_uid=0, st_gid=0, st_size=49620077, st_atime=1689824428, st_mtime=1689824428, st_ctime=1689824426)\n",
      "File Size in Bytes is 49620077\n",
      "File Size in MegaBytes is 47.32139301300049\n"
     ]
    }
   ],
   "source": [
    "file_stats = os.stat(r\"C:\\Users\\xmohd\\Documents\\GitHub\\CarPricePredicition\\cars_clean.csv\")\n",
    "print(file_stats)\n",
    "print(f'File Size in Bytes is {file_stats.st_size}')\n",
    "print(f'File Size in MegaBytes is {file_stats.st_size / (1024 * 1024)}')"
   ]
  },
  {
   "cell_type": "code",
   "execution_count": null,
   "id": "9b62cc03",
   "metadata": {},
   "outputs": [],
   "source": []
  }
 ],
 "metadata": {
  "kernelspec": {
   "display_name": "Python 3",
   "language": "python",
   "name": "python3"
  },
  "language_info": {
   "codemirror_mode": {
    "name": "ipython",
    "version": 3
   },
   "file_extension": ".py",
   "mimetype": "text/x-python",
   "name": "python",
   "nbconvert_exporter": "python",
   "pygments_lexer": "ipython3",
   "version": "3.8.8"
  }
 },
 "nbformat": 4,
 "nbformat_minor": 5
}
